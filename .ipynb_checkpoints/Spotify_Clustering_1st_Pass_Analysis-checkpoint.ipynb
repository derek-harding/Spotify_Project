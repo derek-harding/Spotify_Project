{
 "cells": [
  {
   "cell_type": "markdown",
   "metadata": {},
   "source": [
    "# Read Data"
   ]
  },
  {
   "cell_type": "code",
   "execution_count": 3,
   "metadata": {
    "collapsed": true
   },
   "outputs": [],
   "source": [
    "library(dplyr)\n",
    "library(tidyr)\n",
    "library(ggplot2)"
   ]
  },
  {
   "cell_type": "code",
   "execution_count": 1,
   "metadata": {
    "collapsed": true
   },
   "outputs": [],
   "source": [
    "Track_Data <- read.csv(\"Data/Full_Track_Data.csv\")"
   ]
  },
  {
   "cell_type": "code",
   "execution_count": 4,
   "metadata": {
    "collapsed": false
   },
   "outputs": [
    {
     "name": "stdout",
     "output_type": "stream",
     "text": [
      "Observations: 272\n",
      "Variables: 22\n",
      "$ added_at            <fctr> 2014-02-20T03:54:38Z, 2014-02-20T03:54:57Z, 20...\n",
      "$ arist_id            <fctr> 1GxkXlMwML1oSg5eLPiAz3, 2RdwBSPQiwcmiDo9kixcl8...\n",
      "$ artist_name         <fctr> Michael Bublé, Pharrell Williams, Jason Mraz, ...\n",
      "$ album_name          <fctr> It's Time (U.S. Version), Despicable Me 2 (Ori...\n",
      "$ track_duration_ms   <int> 237333, 233305, 242186, 204160, 214826, 237120,...\n",
      "$ track_explicit_flag <lgl> FALSE, FALSE, FALSE, FALSE, FALSE, FALSE, FALSE...\n",
      "$ track_id            <fctr> 3I09LQbHS3NSU46Ly3tPpR, 6NPVjNh8Jhru9xOmyQigds...\n",
      "$ track_name          <fctr> Feeling Good, Happy, I'm Yours, Timber, Shake ...\n",
      "$ track_popularity    <int> 59, 77, 81, 74, 59, 67, 57, 73, 72, 72, 74, 72,...\n",
      "$ album_image         <fctr> https://i.scdn.co/image/75a0f801d0c3e620462bb1...\n",
      "$ track_preview       <fctr> https://p.scdn.co/mp3-preview/31fc9f95c681542a...\n",
      "$ danceability        <dbl> 0.535, 0.652, 0.686, 0.581, 0.685, 0.820, 0.665...\n",
      "$ energy              <dbl> 0.548, 0.757, 0.457, 0.963, 0.944, 0.731, 0.700...\n",
      "$ loudness            <dbl> -6.510, -6.819, -8.322, -4.087, -5.190, -6.020,...\n",
      "$ mode                <int> 1, 1, 1, 1, 1, 1, 0, 1, 1, 0, 0, 0, 1, 0, 1, 1,...\n",
      "$ speechiness         <dbl> 0.0370, 0.1530, 0.0468, 0.0981, 0.3400, 0.1590,...\n",
      "$ acousticness        <dbl> 0.53300, 0.28600, 0.59500, 0.02950, 0.13400, 0....\n",
      "$ instrumentalness    <dbl> 1.48e-06, 0.00e+00, 0.00e+00, 0.00e+00, 0.00e+0...\n",
      "$ liveness            <dbl> 0.1230, 0.0886, 0.1050, 0.1390, 0.3620, 0.1310,...\n",
      "$ valence             <dbl> 0.474, 0.962, 0.711, 0.792, 0.551, 0.805, 0.485...\n",
      "$ temp                <dbl> 115.144, 159.911, 150.953, 129.992, 128.013, 12...\n",
      "$ time_signature      <int> 3, 4, 4, 4, 4, 4, 4, 4, 4, 4, 4, 4, 4, 4, 4, 4,...\n"
     ]
    }
   ],
   "source": [
    "glimpse(Track_Data)"
   ]
  }
 ],
 "metadata": {
  "kernelspec": {
   "display_name": "R",
   "language": "R",
   "name": "ir"
  },
  "language_info": {
   "codemirror_mode": "r",
   "file_extension": ".r",
   "mimetype": "text/x-r-source",
   "name": "R",
   "pygments_lexer": "r",
   "version": "3.3.1"
  }
 },
 "nbformat": 4,
 "nbformat_minor": 0
}
